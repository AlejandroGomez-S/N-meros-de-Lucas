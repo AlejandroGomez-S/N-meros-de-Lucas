{
  "nbformat": 4,
  "nbformat_minor": 0,
  "metadata": {
    "colab": {
      "name": "Números de Lucas.ipynb",
      "provenance": [],
      "authorship_tag": "ABX9TyPQW2C/cXE3x729iKrE1/y6"
    },
    "kernelspec": {
      "name": "python3",
      "display_name": "Python 3"
    }
  },
  "cells": [
    {
      "cell_type": "code",
      "metadata": {
        "id": "TaDuqfct49e7",
        "colab_type": "code",
        "colab": {
          "base_uri": "https://localhost:8080/",
          "height": 72
        },
        "outputId": "7948d46a-25ef-4b3f-9437-e91ba68a060f"
      },
      "source": [
        "\n",
        "#  Programa para identificar los números de Lucas\n",
        "\n",
        "def lucas():\n",
        "    L0 = 2\n",
        "    L1 = 1\n",
        "    num = [2,1]\n",
        "    for n in range(2,18):\n",
        "        Ln = L0+L1\n",
        "        L0 = L1\n",
        "        L1 = Ln\n",
        "        num.append(Ln)\n",
        "    return num\n",
        "numeros = lucas()\n",
        "\n",
        "print('El 18-th número de Lucas es :   '+ str(numeros[17]))\n",
        "\n",
        "def cercano(num):\n",
        "    for numero in num:\n",
        "        if numero > 1000:\n",
        "            arr = numero - 1000\n",
        "            aba = 1000 - num[num.index(numero)-1]\n",
        "            if arr < aba:\n",
        "                return num\n",
        "            else:\n",
        "                return num[num.index(numero)-1]\n",
        "\n",
        "print('El numero más cercano a 1000 es:   '+str(cercano(numeros)))\n",
        "\n",
        "def mayor100(num):\n",
        "    for numero in num:\n",
        "        if numero > 100:\n",
        "            return numero\n",
        "\n",
        "print('El primer número de Lucas mayor a 100 es:  '+str(mayor100(numeros)))\n",
        "\n"
      ],
      "execution_count": 2,
      "outputs": [
        {
          "output_type": "stream",
          "text": [
            "El 18-th número de Lucas es :   3571\n",
            "El numero más cercano a 1000 es:   843\n",
            "El primer número de Lucas mayor a 100 es:  123\n"
          ],
          "name": "stdout"
        }
      ]
    }
  ]
}